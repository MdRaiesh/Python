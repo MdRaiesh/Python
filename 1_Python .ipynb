{
 "cells": [
  {
   "cell_type": "markdown",
   "id": "fdc46212",
   "metadata": {},
   "source": [
    "# Python "
   ]
  },
  {
   "cell_type": "markdown",
   "id": "42a49282",
   "metadata": {},
   "source": [
    "### Introduction"
   ]
  },
  {
   "cell_type": "code",
   "execution_count": 23,
   "id": "6e156986",
   "metadata": {
    "scrolled": true
   },
   "outputs": [
    {
     "name": "stdout",
     "output_type": "stream",
     "text": [
      "Its Your Md\n"
     ]
    }
   ],
   "source": [
    "print(\"Its Your Md\")"
   ]
  },
  {
   "cell_type": "code",
   "execution_count": 3,
   "id": "66c960e6",
   "metadata": {},
   "outputs": [],
   "source": [
    "student = \"Md Raiesh\""
   ]
  },
  {
   "cell_type": "code",
   "execution_count": 4,
   "id": "19c371d3",
   "metadata": {},
   "outputs": [
    {
     "data": {
      "text/plain": [
       "'Md Raiesh'"
      ]
     },
     "execution_count": 4,
     "metadata": {},
     "output_type": "execute_result"
    }
   ],
   "source": [
    "student"
   ]
  },
  {
   "cell_type": "code",
   "execution_count": 6,
   "id": "878a9426",
   "metadata": {},
   "outputs": [],
   "source": [
    "student = \"Its your Md\""
   ]
  },
  {
   "cell_type": "code",
   "execution_count": 7,
   "id": "3c24fd31",
   "metadata": {},
   "outputs": [
    {
     "data": {
      "text/plain": [
       "'Its your Md'"
      ]
     },
     "execution_count": 7,
     "metadata": {},
     "output_type": "execute_result"
    }
   ],
   "source": [
    "student"
   ]
  },
  {
   "cell_type": "code",
   "execution_count": 1,
   "id": "cc501b55",
   "metadata": {},
   "outputs": [
    {
     "data": {
      "text/plain": [
       "10"
      ]
     },
     "execution_count": 1,
     "metadata": {},
     "output_type": "execute_result"
    }
   ],
   "source": [
    "a1 = 10\n",
    "a1"
   ]
  },
  {
   "cell_type": "code",
   "execution_count": 2,
   "id": "339f005c",
   "metadata": {},
   "outputs": [
    {
     "data": {
      "text/plain": [
       "int"
      ]
     },
     "execution_count": 2,
     "metadata": {},
     "output_type": "execute_result"
    }
   ],
   "source": [
    "type(a1)"
   ]
  },
  {
   "cell_type": "code",
   "execution_count": 3,
   "id": "bb365ac8",
   "metadata": {},
   "outputs": [
    {
     "data": {
      "text/plain": [
       "float"
      ]
     },
     "execution_count": 3,
     "metadata": {},
     "output_type": "execute_result"
    }
   ],
   "source": [
    "a1 = 3.14\n",
    "a1\n",
    "type(a1)"
   ]
  },
  {
   "cell_type": "code",
   "execution_count": 4,
   "id": "a90112a6",
   "metadata": {},
   "outputs": [
    {
     "data": {
      "text/plain": [
       "(3+4j)"
      ]
     },
     "execution_count": 4,
     "metadata": {},
     "output_type": "execute_result"
    }
   ],
   "source": [
    "md = 3+4j\n",
    "md"
   ]
  },
  {
   "cell_type": "code",
   "execution_count": 6,
   "id": "2d055da2",
   "metadata": {},
   "outputs": [
    {
     "data": {
      "text/plain": [
       "complex"
      ]
     },
     "execution_count": 6,
     "metadata": {},
     "output_type": "execute_result"
    }
   ],
   "source": [
    "type(md)"
   ]
  },
  {
   "cell_type": "code",
   "execution_count": 5,
   "id": "e93e5ba6",
   "metadata": {},
   "outputs": [
    {
     "data": {
      "text/plain": [
       "False"
      ]
     },
     "execution_count": 5,
     "metadata": {},
     "output_type": "execute_result"
    }
   ],
   "source": [
    "# is used For the purpose of comment\n",
    "a = True\n",
    "b = False\n",
    "a & b"
   ]
  },
  {
   "cell_type": "code",
   "execution_count": 7,
   "id": "8e6d5931",
   "metadata": {},
   "outputs": [
    {
     "data": {
      "text/plain": [
       "True"
      ]
     },
     "execution_count": 7,
     "metadata": {},
     "output_type": "execute_result"
    }
   ],
   "source": [
    "a | b"
   ]
  },
  {
   "cell_type": "code",
   "execution_count": 8,
   "id": "e345b888",
   "metadata": {},
   "outputs": [
    {
     "data": {
      "text/plain": [
       "'I'"
      ]
     },
     "execution_count": 8,
     "metadata": {},
     "output_type": "execute_result"
    }
   ],
   "source": [
    "my_string = \"Its your Md\"\n",
    "my_string[0]"
   ]
  },
  {
   "cell_type": "code",
   "execution_count": 9,
   "id": "3b8a9f8b",
   "metadata": {},
   "outputs": [
    {
     "data": {
      "text/plain": [
       "'M'"
      ]
     },
     "execution_count": 9,
     "metadata": {},
     "output_type": "execute_result"
    }
   ],
   "source": [
    "my_string[-2]"
   ]
  },
  {
   "cell_type": "code",
   "execution_count": 10,
   "id": "9d5db337",
   "metadata": {},
   "outputs": [
    {
     "data": {
      "text/plain": [
       "' your '"
      ]
     },
     "execution_count": 10,
     "metadata": {},
     "output_type": "execute_result"
    }
   ],
   "source": [
    "my_string[3:9]"
   ]
  },
  {
   "cell_type": "code",
   "execution_count": 11,
   "id": "c757fb45",
   "metadata": {},
   "outputs": [
    {
     "data": {
      "text/plain": [
       "11"
      ]
     },
     "execution_count": 11,
     "metadata": {},
     "output_type": "execute_result"
    }
   ],
   "source": [
    "len(my_string)"
   ]
  },
  {
   "cell_type": "code",
   "execution_count": 12,
   "id": "e4282a3b",
   "metadata": {},
   "outputs": [
    {
     "data": {
      "text/plain": [
       "'its your md'"
      ]
     },
     "execution_count": 12,
     "metadata": {},
     "output_type": "execute_result"
    }
   ],
   "source": [
    "my_string.lower()"
   ]
  },
  {
   "cell_type": "code",
   "execution_count": 13,
   "id": "42e4cc45",
   "metadata": {},
   "outputs": [
    {
     "data": {
      "text/plain": [
       "'ITS YOUR MD'"
      ]
     },
     "execution_count": 13,
     "metadata": {},
     "output_type": "execute_result"
    }
   ],
   "source": [
    "my_string.upper()"
   ]
  },
  {
   "cell_type": "code",
   "execution_count": 14,
   "id": "4d048b50",
   "metadata": {},
   "outputs": [
    {
     "data": {
      "text/plain": [
       "'Its my Md'"
      ]
     },
     "execution_count": 14,
     "metadata": {},
     "output_type": "execute_result"
    }
   ],
   "source": [
    "my_string.replace('your','my')"
   ]
  },
  {
   "cell_type": "code",
   "execution_count": 15,
   "id": "46c65737",
   "metadata": {},
   "outputs": [
    {
     "data": {
      "text/plain": [
       "2"
      ]
     },
     "execution_count": 15,
     "metadata": {},
     "output_type": "execute_result"
    }
   ],
   "source": [
    "new_string = \"Hello,Hello,World\"\n",
    "new_string.count(\"Hello\")"
   ]
  },
  {
   "cell_type": "code",
   "execution_count": 16,
   "id": "daffca4c",
   "metadata": {},
   "outputs": [
    {
     "data": {
      "text/plain": [
       "10"
      ]
     },
     "execution_count": 16,
     "metadata": {},
     "output_type": "execute_result"
    }
   ],
   "source": [
    "s1 = 'We are in NIT Agartala'\n",
    "s1.find('NIT')"
   ]
  },
  {
   "cell_type": "code",
   "execution_count": 17,
   "id": "1e882424",
   "metadata": {},
   "outputs": [
    {
     "data": {
      "text/plain": [
       "['I like apples', ' mangoes', ' bananas ']"
      ]
     },
     "execution_count": 17,
     "metadata": {},
     "output_type": "execute_result"
    }
   ],
   "source": [
    "fruit = \"I like apples, mangoes, bananas \"\n",
    "fruit.split(',')"
   ]
  },
  {
   "cell_type": "code",
   "execution_count": 18,
   "id": "06becf41",
   "metadata": {},
   "outputs": [
    {
     "data": {
      "text/plain": [
       "[\"I don'\",\n",
       " ' like coding, I avoid i',\n",
       " ' bu',\n",
       " \" coding is ccompulsory so I can'\",\n",
       " ' avoid i',\n",
       " '.']"
      ]
     },
     "execution_count": 18,
     "metadata": {},
     "output_type": "execute_result"
    }
   ],
   "source": [
    "md = \"I don't like coding, I avoid it but coding is ccompulsory so I can't avoid it.\"\n",
    "md.split('t')"
   ]
  },
  {
   "cell_type": "code",
   "execution_count": 19,
   "id": "e541042b",
   "metadata": {},
   "outputs": [
    {
     "data": {
      "text/plain": [
       "(1, True, 3, 14, 5, -8)"
      ]
     },
     "execution_count": 19,
     "metadata": {},
     "output_type": "execute_result"
    }
   ],
   "source": [
    "tuple = (1,True,3,14,5,-8)\n",
    "tuple"
   ]
  },
  {
   "cell_type": "code",
   "execution_count": 20,
   "id": "9e1286b3",
   "metadata": {},
   "outputs": [
    {
     "data": {
      "text/plain": [
       "1"
      ]
     },
     "execution_count": 20,
     "metadata": {},
     "output_type": "execute_result"
    }
   ],
   "source": [
    "tuple[0]"
   ]
  },
  {
   "cell_type": "code",
   "execution_count": 22,
   "id": "73a5c7d1",
   "metadata": {},
   "outputs": [
    {
     "data": {
      "text/plain": [
       "(True, 3)"
      ]
     },
     "execution_count": 22,
     "metadata": {},
     "output_type": "execute_result"
    }
   ],
   "source": [
    "tuple[1:3]"
   ]
  },
  {
   "cell_type": "code",
   "execution_count": 23,
   "id": "f829fe1b",
   "metadata": {},
   "outputs": [
    {
     "ename": "TypeError",
     "evalue": "'tuple' object does not support item assignment",
     "output_type": "error",
     "traceback": [
      "\u001b[1;31m---------------------------------------------------------------------------\u001b[0m",
      "\u001b[1;31mTypeError\u001b[0m                                 Traceback (most recent call last)",
      "Input \u001b[1;32mIn [23]\u001b[0m, in \u001b[0;36m<cell line: 1>\u001b[1;34m()\u001b[0m\n\u001b[1;32m----> 1\u001b[0m \u001b[38;5;28mtuple\u001b[39m[\u001b[38;5;241m3\u001b[39m] \u001b[38;5;241m=\u001b[39m \u001b[38;5;124m\"\u001b[39m\u001b[38;5;124mMd Raiesh\u001b[39m\u001b[38;5;124m\"\u001b[39m\n",
      "\u001b[1;31mTypeError\u001b[0m: 'tuple' object does not support item assignment"
     ]
    }
   ],
   "source": [
    "tuple[3] = \"Md Raiesh\""
   ]
  },
  {
   "cell_type": "code",
   "execution_count": 24,
   "id": "4803ea9b",
   "metadata": {},
   "outputs": [
    {
     "data": {
      "text/plain": [
       "6"
      ]
     },
     "execution_count": 24,
     "metadata": {},
     "output_type": "execute_result"
    }
   ],
   "source": [
    "len(tuple)"
   ]
  },
  {
   "cell_type": "code",
   "execution_count": 25,
   "id": "74594d11",
   "metadata": {},
   "outputs": [
    {
     "data": {
      "text/plain": [
       "(1, 3, 7, 2, 4, 9)"
      ]
     },
     "execution_count": 25,
     "metadata": {},
     "output_type": "execute_result"
    }
   ],
   "source": [
    "tuple1 = (1,3,7)\n",
    "tuple2 = (2,4,9)\n",
    "tuple1+tuple2"
   ]
  },
  {
   "cell_type": "code",
   "execution_count": 26,
   "id": "5ecc3b69",
   "metadata": {},
   "outputs": [
    {
     "data": {
      "text/plain": [
       "((1, 3, 7), (2, 4, 9))"
      ]
     },
     "execution_count": 26,
     "metadata": {},
     "output_type": "execute_result"
    }
   ],
   "source": [
    "tuple1,tuple2"
   ]
  },
  {
   "cell_type": "code",
   "execution_count": 27,
   "id": "1d00c499",
   "metadata": {},
   "outputs": [
    {
     "data": {
      "text/plain": [
       "(1, 3, 7, 1, 3, 7, 1, 3, 7, 1, 3, 7)"
      ]
     },
     "execution_count": 27,
     "metadata": {},
     "output_type": "execute_result"
    }
   ],
   "source": [
    "tuple1*4"
   ]
  },
  {
   "cell_type": "code",
   "execution_count": 28,
   "id": "ee7b569c",
   "metadata": {},
   "outputs": [
    {
     "data": {
      "text/plain": [
       "(1, 3, 7, 1, 3, 7, 1, 3, 7, 2, 4, 9, 2, 4, 9, 2, 4, 9, 2, 4, 9)"
      ]
     },
     "execution_count": 28,
     "metadata": {},
     "output_type": "execute_result"
    }
   ],
   "source": [
    "tuple1*3 + tuple2*4"
   ]
  },
  {
   "cell_type": "code",
   "execution_count": 4,
   "id": "88195768",
   "metadata": {},
   "outputs": [
    {
     "data": {
      "text/plain": [
       "9"
      ]
     },
     "execution_count": 4,
     "metadata": {},
     "output_type": "execute_result"
    }
   ],
   "source": [
    "tuple1 = (1,3,7)\n",
    "tuple2 = (2,4,9)\n",
    "min(tuple1)\n",
    "max(tuple2)"
   ]
  },
  {
   "cell_type": "code",
   "execution_count": 5,
   "id": "7aca392b",
   "metadata": {},
   "outputs": [
    {
     "data": {
      "text/plain": [
       "[1, 'Md Raiesh', 3, 14, True]"
      ]
     },
     "execution_count": 5,
     "metadata": {},
     "output_type": "execute_result"
    }
   ],
   "source": [
    "list1 = [1,\"Md Raiesh\", 3, 14, True]\n",
    "list1"
   ]
  },
  {
   "cell_type": "code",
   "execution_count": 6,
   "id": "59135b92",
   "metadata": {},
   "outputs": [
    {
     "data": {
      "text/plain": [
       "list"
      ]
     },
     "execution_count": 6,
     "metadata": {},
     "output_type": "execute_result"
    }
   ],
   "source": [
    "type(list1)"
   ]
  },
  {
   "cell_type": "code",
   "execution_count": 7,
   "id": "2f37e42b",
   "metadata": {},
   "outputs": [],
   "source": [
    "list1 = [1,\"Md Raiesh\", 3, 14, True]\n",
    "list1[0] = 100"
   ]
  },
  {
   "cell_type": "code",
   "execution_count": 8,
   "id": "acd9f657",
   "metadata": {},
   "outputs": [
    {
     "data": {
      "text/plain": [
       "[100, 'Md Raiesh', 3, 14, True]"
      ]
     },
     "execution_count": 8,
     "metadata": {},
     "output_type": "execute_result"
    }
   ],
   "source": [
    "list1"
   ]
  },
  {
   "cell_type": "code",
   "execution_count": 9,
   "id": "621d0f56",
   "metadata": {},
   "outputs": [],
   "source": [
    "list1.append(\"NITA\")"
   ]
  },
  {
   "cell_type": "code",
   "execution_count": 10,
   "id": "cb18fb52",
   "metadata": {},
   "outputs": [
    {
     "data": {
      "text/plain": [
       "[100, 'Md Raiesh', 3, 14, True, 'NITA']"
      ]
     },
     "execution_count": 10,
     "metadata": {},
     "output_type": "execute_result"
    }
   ],
   "source": [
    "list1"
   ]
  },
  {
   "cell_type": "code",
   "execution_count": 11,
   "id": "fb42a15c",
   "metadata": {},
   "outputs": [
    {
     "data": {
      "text/plain": [
       "[1, 'Md Raiesh', 3, 14]"
      ]
     },
     "execution_count": 11,
     "metadata": {},
     "output_type": "execute_result"
    }
   ],
   "source": [
    "list1 = [1,\"Md Raiesh\", 3, 14, True]\n",
    "list1.pop()\n",
    "list1"
   ]
  },
  {
   "cell_type": "code",
   "execution_count": 12,
   "id": "0e74e60f",
   "metadata": {},
   "outputs": [
    {
     "data": {
      "text/plain": [
       "['m', 7, 'F', 9, 'b', 2]"
      ]
     },
     "execution_count": 12,
     "metadata": {},
     "output_type": "execute_result"
    }
   ],
   "source": [
    "l1 = [2,\"b\",9,\"F\",7,\"m\"]\n",
    "l1.reverse()\n",
    "l1"
   ]
  },
  {
   "cell_type": "code",
   "execution_count": 13,
   "id": "9346aa6d",
   "metadata": {},
   "outputs": [
    {
     "data": {
      "text/plain": [
       "['m', 7, 'F', 9, 'b', 'Mechanical', 2]"
      ]
     },
     "execution_count": 13,
     "metadata": {},
     "output_type": "execute_result"
    }
   ],
   "source": [
    "l1.insert(5,\"Mechanical\")\n",
    "l1"
   ]
  },
  {
   "cell_type": "code",
   "execution_count": 14,
   "id": "587b3b18",
   "metadata": {},
   "outputs": [
    {
     "data": {
      "text/plain": [
       "['Apple', 'Banana', 'Grapes', 'Mango']"
      ]
     },
     "execution_count": 14,
     "metadata": {},
     "output_type": "execute_result"
    }
   ],
   "source": [
    "l1 = [\"Mango\",\"Grapes\",\"Banana\",\"Apple\"]\n",
    "l1.sort()\n",
    "l1"
   ]
  },
  {
   "cell_type": "code",
   "execution_count": 2,
   "id": "a33d37e5",
   "metadata": {},
   "outputs": [
    {
     "data": {
      "text/plain": [
       "['Mango',\n",
       " 'Grapes',\n",
       " 'Banana',\n",
       " 'Apple',\n",
       " 'Mango',\n",
       " 'Grapes',\n",
       " 'Banana',\n",
       " 'Apple',\n",
       " 'Mango',\n",
       " 'Grapes',\n",
       " 'Banana',\n",
       " 'Apple',\n",
       " 'a',\n",
       " 'b',\n",
       " 7,\n",
       " 98.65]"
      ]
     },
     "execution_count": 2,
     "metadata": {},
     "output_type": "execute_result"
    }
   ],
   "source": [
    "l1 = [\"Mango\",\"Grapes\",\"Banana\",\"Apple\"]\n",
    "l2 = ['a',\"b\",7,98.65]\n",
    "l1*3+l2"
   ]
  },
  {
   "cell_type": "markdown",
   "id": "c550169e",
   "metadata": {},
   "source": [
    "### Dictionary "
   ]
  },
  {
   "cell_type": "code",
   "execution_count": 3,
   "id": "355503c2",
   "metadata": {},
   "outputs": [],
   "source": [
    "# Dictionary is an unordered collection of key value pairs enclosed with {}\n",
    "# Dictionary is mutable"
   ]
  },
  {
   "cell_type": "code",
   "execution_count": 4,
   "id": "f2882835",
   "metadata": {},
   "outputs": [
    {
     "data": {
      "text/plain": [
       "{'Fruit': 50, 'Mango': 40, 'Banana': 60}"
      ]
     },
     "execution_count": 4,
     "metadata": {},
     "output_type": "execute_result"
    }
   ],
   "source": [
    "Dic = {\"Fruit\":50, \"Mango\":40, \"Banana\":60}\n",
    "Dic"
   ]
  },
  {
   "cell_type": "code",
   "execution_count": 5,
   "id": "58fa6e41",
   "metadata": {},
   "outputs": [
    {
     "data": {
      "text/plain": [
       "dict"
      ]
     },
     "execution_count": 5,
     "metadata": {},
     "output_type": "execute_result"
    }
   ],
   "source": [
    "type(Dic)"
   ]
  },
  {
   "cell_type": "code",
   "execution_count": 6,
   "id": "0749d464",
   "metadata": {},
   "outputs": [
    {
     "data": {
      "text/plain": [
       "dict_keys(['Fruit', 'Mango', 'Banana'])"
      ]
     },
     "execution_count": 6,
     "metadata": {},
     "output_type": "execute_result"
    }
   ],
   "source": [
    "Dic.keys()"
   ]
  },
  {
   "cell_type": "code",
   "execution_count": 7,
   "id": "af074fd0",
   "metadata": {},
   "outputs": [
    {
     "data": {
      "text/plain": [
       "dict_values([50, 40, 60])"
      ]
     },
     "execution_count": 7,
     "metadata": {},
     "output_type": "execute_result"
    }
   ],
   "source": [
    "Dic.values()"
   ]
  },
  {
   "cell_type": "code",
   "execution_count": 8,
   "id": "5cc688d3",
   "metadata": {},
   "outputs": [
    {
     "data": {
      "text/plain": [
       "{'Fruit': 50, 'Mango': 40, 'Banana': 60, 'Guava': 80}"
      ]
     },
     "execution_count": 8,
     "metadata": {},
     "output_type": "execute_result"
    }
   ],
   "source": [
    "Dic[\"Guava\"] = 80\n",
    "Dic"
   ]
  },
  {
   "cell_type": "code",
   "execution_count": 11,
   "id": "afb45946",
   "metadata": {},
   "outputs": [
    {
     "data": {
      "text/plain": [
       "{'Fruit': 90, 'Mango': 40, 'Banana': 60, 'Guava': 80}"
      ]
     },
     "execution_count": 11,
     "metadata": {},
     "output_type": "execute_result"
    }
   ],
   "source": [
    "Dic = {\"Fruit\":50, \"Mango\":40, \"Banana\":60, \"Guava\":80}\n",
    "Dic[\"Fruit\"] = 90\n",
    "Dic"
   ]
  },
  {
   "cell_type": "code",
   "execution_count": 15,
   "id": "3d8dc98d",
   "metadata": {},
   "outputs": [
    {
     "data": {
      "text/plain": [
       "{'Mango': 45,\n",
       " 'Banana': 69,\n",
       " 'Guava': 78,\n",
       " 'Orange': 83,\n",
       " 'Grapes': 89,\n",
       " 'Apple': 49}"
      ]
     },
     "execution_count": 15,
     "metadata": {},
     "output_type": "execute_result"
    }
   ],
   "source": [
    "fruit1 = {\"Mango\":45, \"Banana\":69, \"Guava\":78}\n",
    "fruit2 = {\"Orange\":83, \"Grapes\":89, \"Apple\":49}\n",
    "fruit1.update(fruit2)\n",
    "fruit1"
   ]
  },
  {
   "cell_type": "code",
   "execution_count": 17,
   "id": "c800616b",
   "metadata": {},
   "outputs": [
    {
     "data": {
      "text/plain": [
       "{'Mango': 45, 'Banana': 69}"
      ]
     },
     "execution_count": 17,
     "metadata": {},
     "output_type": "execute_result"
    }
   ],
   "source": [
    "fruit1 = {\"Mango\":45, \"Banana\":69, \"Guava\":78}\n",
    "fruit1.pop(\"Guava\")\n",
    "fruit1"
   ]
  },
  {
   "cell_type": "code",
   "execution_count": 18,
   "id": "65b1c50e",
   "metadata": {},
   "outputs": [],
   "source": [
    "# Set\n",
    "# Set is an unordered unindexed collection of elements enclosed with {}\n",
    "# Duplicates are not allowed in sets"
   ]
  },
  {
   "cell_type": "code",
   "execution_count": 19,
   "id": "0b7702ee",
   "metadata": {},
   "outputs": [
    {
     "data": {
      "text/plain": [
       "{1, 7, 78, 'Sparta'}"
      ]
     },
     "execution_count": 19,
     "metadata": {},
     "output_type": "execute_result"
    }
   ],
   "source": [
    "set1 = {1,7,78,\"Sparta\"}\n",
    "set1"
   ]
  },
  {
   "cell_type": "code",
   "execution_count": 20,
   "id": "ea1ef9eb",
   "metadata": {},
   "outputs": [],
   "source": [
    "set1 = {1,7.78,1,\"Sparta\",7.78,\"Sparta\"}"
   ]
  },
  {
   "cell_type": "code",
   "execution_count": 21,
   "id": "61fe43cd",
   "metadata": {},
   "outputs": [
    {
     "data": {
      "text/plain": [
       "{1, 7.78, 'Sparta'}"
      ]
     },
     "execution_count": 21,
     "metadata": {},
     "output_type": "execute_result"
    }
   ],
   "source": [
    "set1"
   ]
  },
  {
   "cell_type": "code",
   "execution_count": 22,
   "id": "2649d4db",
   "metadata": {},
   "outputs": [
    {
     "data": {
      "text/plain": [
       "{1, 7.78, 'MD', 'Sparta'}"
      ]
     },
     "execution_count": 22,
     "metadata": {},
     "output_type": "execute_result"
    }
   ],
   "source": [
    "set1.add(\"MD\")\n",
    "set1"
   ]
  },
  {
   "cell_type": "code",
   "execution_count": 23,
   "id": "abf963f8",
   "metadata": {},
   "outputs": [
    {
     "data": {
      "text/plain": [
       "{1, 10, 5.76, 7.78, 'MD', 'Raiesh', 'Sparta'}"
      ]
     },
     "execution_count": 23,
     "metadata": {},
     "output_type": "execute_result"
    }
   ],
   "source": [
    "set1.update([10,5.76,\"Raiesh\"])\n",
    "set1"
   ]
  },
  {
   "cell_type": "code",
   "execution_count": 25,
   "id": "c086ede5",
   "metadata": {},
   "outputs": [
    {
     "data": {
      "text/plain": [
       "{1, 10, 5.76, 7.78, 'Raiesh', 'Sparta'}"
      ]
     },
     "execution_count": 25,
     "metadata": {},
     "output_type": "execute_result"
    }
   ],
   "source": [
    "set1.remove(\"MD\")\n",
    "set1"
   ]
  },
  {
   "cell_type": "code",
   "execution_count": 26,
   "id": "a83579a4",
   "metadata": {},
   "outputs": [
    {
     "data": {
      "text/plain": [
       "{1, 2, 3, 4, 5, 6, 8}"
      ]
     },
     "execution_count": 26,
     "metadata": {},
     "output_type": "execute_result"
    }
   ],
   "source": [
    "s1 = {1,3,6,8,5}\n",
    "s2 = {2,4,8,6,3}\n",
    "s1.union(s2)"
   ]
  },
  {
   "cell_type": "code",
   "execution_count": 27,
   "id": "5ba830e5",
   "metadata": {},
   "outputs": [
    {
     "data": {
      "text/plain": [
       "{3, 6, 8}"
      ]
     },
     "execution_count": 27,
     "metadata": {},
     "output_type": "execute_result"
    }
   ],
   "source": [
    "s1.intersection(s2)"
   ]
  },
  {
   "cell_type": "code",
   "execution_count": 4,
   "id": "bd99ca0d",
   "metadata": {},
   "outputs": [
    {
     "data": {
      "text/plain": [
       "'\\nPseudo code for if else..........\\n\\nif(condition)\\n{\\n    statements to be executed..........\\n}\\nelse\\n{\\n    statements to be executed.......... \\n}\\n'"
      ]
     },
     "execution_count": 4,
     "metadata": {},
     "output_type": "execute_result"
    }
   ],
   "source": [
    "'''\n",
    "Pseudo code for if else..........\n",
    "\n",
    "if(condition)\n",
    "{\n",
    "    statements to be executed..........\n",
    "}\n",
    "else\n",
    "{\n",
    "    statements to be executed.......... \n",
    "}\n",
    "'''"
   ]
  },
  {
   "cell_type": "code",
   "execution_count": 5,
   "id": "2b653cb7",
   "metadata": {},
   "outputs": [
    {
     "name": "stdout",
     "output_type": "stream",
     "text": [
      "b is greater than a\n"
     ]
    }
   ],
   "source": [
    "a = 10\n",
    "b = 20\n",
    "if a>b:\n",
    "    print(\"a is greater than b\")\n",
    "else:\n",
    "    print(\"b is greater than a\")"
   ]
  },
  {
   "cell_type": "code",
   "execution_count": 6,
   "id": "4dd4fc71",
   "metadata": {},
   "outputs": [
    {
     "name": "stdout",
     "output_type": "stream",
     "text": [
      "c is greatest\n"
     ]
    }
   ],
   "source": [
    "a = 10\n",
    "b = 20\n",
    "c = 30\n",
    "if (a>b) & (a>c):\n",
    "    print(\"a is greatest\")\n",
    "elif (b>a) & (b>c):\n",
    "    print(\"b is greatest\")\n",
    "else:\n",
    "    print(\"c is greatest\")"
   ]
  },
  {
   "cell_type": "markdown",
   "id": "21c9f90f",
   "metadata": {},
   "source": [
    "### if with tuple"
   ]
  },
  {
   "cell_type": "code",
   "execution_count": 8,
   "id": "ebdcd642",
   "metadata": {},
   "outputs": [],
   "source": [
    "tup1 = (\"a\",\"b\",\"c\")"
   ]
  },
  {
   "cell_type": "code",
   "execution_count": 10,
   "id": "b477b247",
   "metadata": {},
   "outputs": [
    {
     "name": "stdout",
     "output_type": "stream",
     "text": [
      "x is not present in the tup1\n"
     ]
    }
   ],
   "source": [
    "if \"x\" in tup1:\n",
    "    print(\"x is in tup1\")\n",
    "else:\n",
    "    print(\"x is not present in the tup1\")"
   ]
  },
  {
   "cell_type": "markdown",
   "id": "b252414e",
   "metadata": {},
   "source": [
    "### if with list"
   ]
  },
  {
   "cell_type": "code",
   "execution_count": 13,
   "id": "e146fad3",
   "metadata": {},
   "outputs": [
    {
     "data": {
      "text/plain": [
       "['a', 'z', 'c']"
      ]
     },
     "execution_count": 13,
     "metadata": {},
     "output_type": "execute_result"
    }
   ],
   "source": [
    "l1 = [\"a\",\"b\",\"c\"]\n",
    "if l1[1] == \"b\":\n",
    "    l1[1] = \"z\"\n",
    "l1"
   ]
  },
  {
   "cell_type": "code",
   "execution_count": 6,
   "id": "91f5d553",
   "metadata": {},
   "outputs": [
    {
     "data": {
      "text/plain": [
       "{'k1': 10, 'k2': 20, 'k3': 130}"
      ]
     },
     "execution_count": 6,
     "metadata": {},
     "output_type": "execute_result"
    }
   ],
   "source": [
    "# if with dictionary\n",
    "\n",
    "d1 = {'k1':10,'k2':20,'k3':30}\n",
    "if d1['k3']==30:\n",
    "    d1['k3']=d1['k3']+100\n",
    "d1"
   ]
  },
  {
   "cell_type": "code",
   "execution_count": 17,
   "id": "3f3c9f3a",
   "metadata": {},
   "outputs": [],
   "source": [
    "# Looping Statements\n",
    "# Looping statements are used to repeat a task multiple times"
   ]
  },
  {
   "cell_type": "code",
   "execution_count": 3,
   "id": "1bfad2d3",
   "metadata": {},
   "outputs": [
    {
     "name": "stdout",
     "output_type": "stream",
     "text": [
      "1\n",
      "2\n",
      "3\n",
      "4\n",
      "5\n",
      "6\n",
      "7\n",
      "8\n",
      "9\n",
      "10\n"
     ]
    }
   ],
   "source": [
    "i=1\n",
    "while i<=10:\n",
    "    print(i)\n",
    "    i=i+1"
   ]
  },
  {
   "cell_type": "code",
   "execution_count": 8,
   "id": "eb2b2662",
   "metadata": {},
   "outputs": [
    {
     "name": "stdout",
     "output_type": "stream",
     "text": [
      "2 * 1 = 2\n",
      "2 * 2 = 4\n",
      "2 * 3 = 6\n",
      "2 * 4 = 8\n",
      "2 * 5 = 10\n",
      "2 * 6 = 12\n",
      "2 * 7 = 14\n",
      "2 * 8 = 16\n",
      "2 * 9 = 18\n",
      "2 * 10 = 20\n"
     ]
    }
   ],
   "source": [
    "i = 1\n",
    "n = 2\n",
    "while i<=10:\n",
    "    print(n,\"*\",i,\"=\",n*i)\n",
    "    i=i+1"
   ]
  },
  {
   "cell_type": "code",
   "execution_count": 10,
   "id": "5927cb66",
   "metadata": {},
   "outputs": [
    {
     "data": {
      "text/plain": [
       "[3, 4, 5, 6, 7, 8]"
      ]
     },
     "execution_count": 10,
     "metadata": {},
     "output_type": "execute_result"
    }
   ],
   "source": [
    "# while with list\n",
    "\n",
    "l1 =[1,2,3,4,5,6]\n",
    "i=0\n",
    "while i<len(l1):\n",
    "    l1[i]=l1[i]+2\n",
    "    i=i+1\n",
    "l1"
   ]
  },
  {
   "cell_type": "code",
   "execution_count": 11,
   "id": "670355e2",
   "metadata": {},
   "outputs": [],
   "source": [
    "# For loop is used to iterate over a sequence (tuple, list, dictionary)"
   ]
  },
  {
   "cell_type": "code",
   "execution_count": 12,
   "id": "7469bb22",
   "metadata": {},
   "outputs": [
    {
     "name": "stdout",
     "output_type": "stream",
     "text": [
      "apples\n",
      "grapes\n",
      "banana\n",
      "orange\n"
     ]
    }
   ],
   "source": [
    "l1 = [\"apples\",\"grapes\",\"banana\",\"orange\"]\n",
    "for i in l1:\n",
    "    print(i)"
   ]
  },
  {
   "cell_type": "code",
   "execution_count": 13,
   "id": "90c1c156",
   "metadata": {},
   "outputs": [
    {
     "name": "stdout",
     "output_type": "stream",
     "text": [
      "Orange chair\n",
      "Orange book\n",
      "Orange laptop\n",
      "black chair\n",
      "black book\n",
      "black laptop\n",
      "white chair\n",
      "white book\n",
      "white laptop\n"
     ]
    }
   ],
   "source": [
    "l1 = ['Orange','black','white']\n",
    "l2 = ['chair','book','laptop']\n",
    "for i in l1:\n",
    "    for j in l2:\n",
    "        print(i,j)\n",
    "        "
   ]
  },
  {
   "cell_type": "code",
   "execution_count": 14,
   "id": "c3e36bfc",
   "metadata": {},
   "outputs": [],
   "source": [
    "# Functions\n",
    "\n",
    "# Functions is a block of code which performs specific task\n"
   ]
  },
  {
   "cell_type": "code",
   "execution_count": 15,
   "id": "3590d8e7",
   "metadata": {},
   "outputs": [],
   "source": [
    "def md():\n",
    "    print(\"Tum dhokhebaaz ho bsdk\")"
   ]
  },
  {
   "cell_type": "code",
   "execution_count": 16,
   "id": "64b7ae99",
   "metadata": {},
   "outputs": [
    {
     "name": "stdout",
     "output_type": "stream",
     "text": [
      "Tum dhokhebaaz ho bsdk\n"
     ]
    }
   ],
   "source": [
    "md()"
   ]
  },
  {
   "cell_type": "code",
   "execution_count": 22,
   "id": "6b763bf5",
   "metadata": {},
   "outputs": [],
   "source": [
    "def add_10(x):\n",
    "    return x+10"
   ]
  },
  {
   "cell_type": "code",
   "execution_count": 23,
   "id": "c86f0d6c",
   "metadata": {},
   "outputs": [
    {
     "data": {
      "text/plain": [
       "30"
      ]
     },
     "execution_count": 23,
     "metadata": {},
     "output_type": "execute_result"
    }
   ],
   "source": [
    "add_10(20)"
   ]
  },
  {
   "cell_type": "code",
   "execution_count": 24,
   "id": "d30c821e",
   "metadata": {},
   "outputs": [],
   "source": [
    "def odd_even(x):\n",
    "    if x%2==0:\n",
    "        print(x, \"is even\")\n",
    "    else:\n",
    "        print(x, \"is odd\")"
   ]
  },
  {
   "cell_type": "code",
   "execution_count": 25,
   "id": "a73a96ca",
   "metadata": {},
   "outputs": [
    {
     "name": "stdout",
     "output_type": "stream",
     "text": [
      "79 is odd\n"
     ]
    }
   ],
   "source": [
    "odd_even(79)"
   ]
  },
  {
   "cell_type": "code",
   "execution_count": 26,
   "id": "47ed1121",
   "metadata": {},
   "outputs": [],
   "source": [
    "# Lambda function\n",
    "\n",
    "g = lambda x: x*x*x*x\n"
   ]
  },
  {
   "cell_type": "code",
   "execution_count": 27,
   "id": "1a7934ea",
   "metadata": {},
   "outputs": [
    {
     "data": {
      "text/plain": [
       "16"
      ]
     },
     "execution_count": 27,
     "metadata": {},
     "output_type": "execute_result"
    }
   ],
   "source": [
    "g(2)"
   ]
  },
  {
   "cell_type": "code",
   "execution_count": 28,
   "id": "9b12290c",
   "metadata": {},
   "outputs": [
    {
     "data": {
      "text/plain": [
       "[45, 23]"
      ]
     },
     "execution_count": 28,
     "metadata": {},
     "output_type": "execute_result"
    }
   ],
   "source": [
    "# Lambda with filter\n",
    "\n",
    "l1 = [18,98,56,45,23,56]\n",
    "list1 = list(filter(lambda x: (x%2!=0),l1))\n",
    "list1"
   ]
  },
  {
   "cell_type": "code",
   "execution_count": 30,
   "id": "fbc46e6e",
   "metadata": {},
   "outputs": [
    {
     "data": {
      "text/plain": [
       "[36, 196, 112, 90, 46, 112]"
      ]
     },
     "execution_count": 30,
     "metadata": {},
     "output_type": "execute_result"
    }
   ],
   "source": [
    "# Lambda with map\n",
    "\n",
    "l1 = [18,98,56,45,23,56]\n",
    "list1 = list(map(lambda x: x*2,l1))\n",
    "list1"
   ]
  },
  {
   "cell_type": "code",
   "execution_count": 31,
   "id": "feb25610",
   "metadata": {},
   "outputs": [],
   "source": [
    "from functools import reduce"
   ]
  },
  {
   "cell_type": "code",
   "execution_count": 33,
   "id": "30ac7c0b",
   "metadata": {},
   "outputs": [
    {
     "data": {
      "text/plain": [
       "21"
      ]
     },
     "execution_count": 33,
     "metadata": {},
     "output_type": "execute_result"
    }
   ],
   "source": [
    "# Lambda with reduce\n",
    "\n",
    "l1 = [1,2,3,4,5,6]\n",
    "sum = reduce(lambda x,y: x+y,l1)\n",
    "sum"
   ]
  },
  {
   "cell_type": "code",
   "execution_count": 1,
   "id": "0fbfe9c1",
   "metadata": {},
   "outputs": [],
   "source": [
    "# Object oriented programming (OOPS)\n",
    "\n",
    "\n",
    "# Classes \n",
    "# Class is a template/blue-print for real world entities "
   ]
  },
  {
   "cell_type": "code",
   "execution_count": 3,
   "id": "7be12f21",
   "metadata": {},
   "outputs": [],
   "source": [
    "class phone:\n",
    "    def make_call(self):\n",
    "        print(\"Making phone call\")\n",
    "        \n",
    "    def play_game(self):\n",
    "        print(\"Playing Game\")"
   ]
  },
  {
   "cell_type": "code",
   "execution_count": 4,
   "id": "9c196a4d",
   "metadata": {},
   "outputs": [],
   "source": [
    "cl = phone()"
   ]
  },
  {
   "cell_type": "code",
   "execution_count": 5,
   "id": "3e877700",
   "metadata": {},
   "outputs": [
    {
     "name": "stdout",
     "output_type": "stream",
     "text": [
      "Making phone call\n"
     ]
    }
   ],
   "source": [
    "cl.make_call()"
   ]
  },
  {
   "cell_type": "code",
   "execution_count": 6,
   "id": "00ea0a7d",
   "metadata": {},
   "outputs": [
    {
     "name": "stdout",
     "output_type": "stream",
     "text": [
      "Playing Game\n"
     ]
    }
   ],
   "source": [
    "cl.play_game()"
   ]
  },
  {
   "cell_type": "code",
   "execution_count": 1,
   "id": "3ac370f2",
   "metadata": {},
   "outputs": [],
   "source": [
    "class Phone:\n",
    "    def set_color(self,color):\n",
    "        self.color=color\n",
    "        \n",
    "    def set_cost(self,cost):\n",
    "        self.cost=cost\n",
    "        \n",
    "    def show_color(self):\n",
    "        return self.color\n",
    "    \n",
    "    def show_cost(self):\n",
    "        return self.cost\n",
    "    \n",
    "    def make_call(self):\n",
    "        print(\"Making phone call\")\n",
    "        \n",
    "    def play_game(self):\n",
    "        print(\"Playing Game\")"
   ]
  },
  {
   "cell_type": "code",
   "execution_count": 2,
   "id": "c45fdca9",
   "metadata": {},
   "outputs": [
    {
     "data": {
      "text/plain": [
       "5000"
      ]
     },
     "execution_count": 2,
     "metadata": {},
     "output_type": "execute_result"
    }
   ],
   "source": [
    "p2 = Phone()\n",
    "p2.set_color(\"blue\")\n",
    "p2.set_cost(5000)\n",
    "p2.show_color()\n",
    "p2.show_cost()"
   ]
  },
  {
   "cell_type": "code",
   "execution_count": 3,
   "id": "c6248758",
   "metadata": {},
   "outputs": [
    {
     "data": {
      "text/plain": [
       "'blue'"
      ]
     },
     "execution_count": 3,
     "metadata": {},
     "output_type": "execute_result"
    }
   ],
   "source": [
    "p2.show_color()"
   ]
  },
  {
   "cell_type": "code",
   "execution_count": 5,
   "id": "39291704",
   "metadata": {},
   "outputs": [
    {
     "name": "stdout",
     "output_type": "stream",
     "text": [
      "Playing Game\n"
     ]
    }
   ],
   "source": [
    "p2.play_game()"
   ]
  },
  {
   "cell_type": "code",
   "execution_count": 6,
   "id": "246998d1",
   "metadata": {},
   "outputs": [],
   "source": [
    "# init method acts as a constructor\n",
    "class Employee:\n",
    "    def __init__(self,name,age,gender,salary):\n",
    "        self.name = name\n",
    "        self.age = age\n",
    "        self.gender = gender\n",
    "        self.salary = salary\n",
    "        \n",
    "    def employee_details(self):\n",
    "        print(\"Name of employee is\", self.name)\n",
    "        print(\"Age of employee is\", self.age)\n",
    "        print(\"Gender of employee is\", self.gender)\n",
    "        print(\"Salary of employee is\", self.salary)"
   ]
  },
  {
   "cell_type": "code",
   "execution_count": 8,
   "id": "30da6166",
   "metadata": {},
   "outputs": [
    {
     "name": "stdout",
     "output_type": "stream",
     "text": [
      "Name of employee is raiesh\n",
      "Age of employee is 20\n",
      "Gender of employee is Male\n",
      "Salary of employee is 100000\n"
     ]
    }
   ],
   "source": [
    "e1 = Employee('raiesh',20,'Male',100000,)\n",
    "e1.employee_details()"
   ]
  },
  {
   "cell_type": "code",
   "execution_count": 9,
   "id": "49fac5e8",
   "metadata": {},
   "outputs": [],
   "source": [
    "# Inheritance in python\n",
    "# With inheritance one class can derive the properties of another class"
   ]
  },
  {
   "cell_type": "code",
   "execution_count": 10,
   "id": "8d24b4e0",
   "metadata": {},
   "outputs": [
    {
     "name": "stdout",
     "output_type": "stream",
     "text": [
      "It's a vehicle\n",
      "Mileage of vehicle is  500\n",
      "Cost of vehicle is 100000\n"
     ]
    }
   ],
   "source": [
    "class vehicle:\n",
    "    def __init__(self,mileage,cost):\n",
    "        self.mileage = mileage\n",
    "        self.cost = cost\n",
    "        \n",
    "    def show_details(self):\n",
    "        print(\"It's a vehicle\")\n",
    "        print(\"Mileage of vehicle is \", self.mileage)\n",
    "        print(\"Cost of vehicle is\", self.cost)\n",
    "    \n",
    "v1 = vehicle(500,100000)\n",
    "v1.show_details()"
   ]
  },
  {
   "cell_type": "code",
   "execution_count": 13,
   "id": "00580f03",
   "metadata": {},
   "outputs": [
    {
     "name": "stdout",
     "output_type": "stream",
     "text": [
      "It's a vehicle\n",
      "Mileage of vehicle is  200\n",
      "Cost of vehicle is 50000\n"
     ]
    }
   ],
   "source": [
    "class car(vehicle):\n",
    "    def show_car(self):\n",
    "        print(\"It's a car\")\n",
    "c1 = car(200,50000)\n",
    "c1.show_details()"
   ]
  },
  {
   "cell_type": "code",
   "execution_count": 14,
   "id": "8ddd65a5",
   "metadata": {},
   "outputs": [
    {
     "name": "stdout",
     "output_type": "stream",
     "text": [
      "It's a car\n"
     ]
    }
   ],
   "source": [
    "c1.show_car()"
   ]
  },
  {
   "cell_type": "code",
   "execution_count": 5,
   "id": "f38e9bcf",
   "metadata": {},
   "outputs": [
    {
     "name": "stdout",
     "output_type": "stream",
     "text": [
      "Its a car\n",
      "Numbeer of tyres are  5\n",
      "Value of horse power is  400\n"
     ]
    }
   ],
   "source": [
    "class vehicle:\n",
    "    def __init__(self,mileage,cost):\n",
    "        self.mileage = mileage\n",
    "        self.cost = cost\n",
    "        \n",
    "    def show_details(self):\n",
    "        print(\"It's a vehicle\")\n",
    "        print(\"Mileage of vehicle is \", self.mileage)\n",
    "        print(\"Cost of vehicle is\", self.cost)\n",
    "    \n",
    "\n",
    "class car(vehicle):\n",
    "    def __init__(self,mileage,cost,tyres,hp):\n",
    "        super().__init__(mileage,cost)\n",
    "        self.tyres = tyres\n",
    "        self.hp = hp\n",
    "    def show_car_details(self):\n",
    "        print(\"Its a car\")\n",
    "        print(\"Numbeer of tyres are \",self.tyres)\n",
    "        print(\"Value of horse power is \",self.hp)\n",
    "        \n",
    "c1 = car(20,12000,5,400)\n",
    "c1.show_car_details()"
   ]
  },
  {
   "cell_type": "code",
   "execution_count": 8,
   "id": "1b087cac",
   "metadata": {},
   "outputs": [],
   "source": [
    "# Types of Inheritance \n",
    "\n",
    "# 1. Single Inheritance \n",
    "# 2. Multiple Inheritance \n",
    "# 3. Multilevel Inheritance \n",
    "# 4. Hybrid Inheritance\n"
   ]
  },
  {
   "cell_type": "code",
   "execution_count": 7,
   "id": "294acf29",
   "metadata": {},
   "outputs": [],
   "source": [
    "# Multiple Inheritance\n",
    "# In multiple inheritance the child class inherits from more than one parent class"
   ]
  },
  {
   "cell_type": "code",
   "execution_count": 9,
   "id": "ed8fd5a4",
   "metadata": {},
   "outputs": [],
   "source": [
    "class parent1():\n",
    "    def assign_string_one(self,str1):\n",
    "        self.str1 = str1       \n",
    "    def show_string_one(self):\n",
    "        return self.str1\n",
    "    \n",
    "class parent2():\n",
    "    def assign_string_two(self,str2):\n",
    "        self.str2 = str2\n",
    "    def show_string_two(self):\n",
    "        return self.str2\n",
    "    \n",
    "class derived(parent1,parent2):\n",
    "    def assign_string_three(self,str3):\n",
    "        self.str3 = str3\n",
    "    def show_string_three(self):\n",
    "        return self.str3"
   ]
  },
  {
   "cell_type": "code",
   "execution_count": 10,
   "id": "02029fdd",
   "metadata": {},
   "outputs": [],
   "source": [
    "d1 = derived()\n",
    "d1.assign_string_one(\"one\")\n",
    "d1.assign_string_two(\"two\")\n",
    "d1.assign_string_three(\"three\")"
   ]
  },
  {
   "cell_type": "code",
   "execution_count": 11,
   "id": "784049c6",
   "metadata": {},
   "outputs": [
    {
     "data": {
      "text/plain": [
       "'one'"
      ]
     },
     "execution_count": 11,
     "metadata": {},
     "output_type": "execute_result"
    }
   ],
   "source": [
    "d1.show_string_one()"
   ]
  },
  {
   "cell_type": "code",
   "execution_count": 12,
   "id": "c357219d",
   "metadata": {},
   "outputs": [
    {
     "data": {
      "text/plain": [
       "'two'"
      ]
     },
     "execution_count": 12,
     "metadata": {},
     "output_type": "execute_result"
    }
   ],
   "source": [
    "d1.show_string_two()"
   ]
  },
  {
   "cell_type": "code",
   "execution_count": 13,
   "id": "a6790764",
   "metadata": {},
   "outputs": [
    {
     "data": {
      "text/plain": [
       "'three'"
      ]
     },
     "execution_count": 13,
     "metadata": {},
     "output_type": "execute_result"
    }
   ],
   "source": [
    "d1.show_string_three()"
   ]
  },
  {
   "cell_type": "code",
   "execution_count": 14,
   "id": "a5d119f7",
   "metadata": {},
   "outputs": [],
   "source": [
    "# Multi-level inheritance\n",
    "# In multilevel inheritance, we have parent, child, grand-child relationship\n",
    "# Parent -> child -> grand-child"
   ]
  },
  {
   "cell_type": "code",
   "execution_count": 15,
   "id": "24b03c39",
   "metadata": {},
   "outputs": [],
   "source": [
    "class parent():\n",
    "    def assign_name(self,name):\n",
    "        self.name = name\n",
    "    def show_name(self):\n",
    "        return self.name\n",
    "    \n",
    "class child(parent):\n",
    "    def assign_age(self,age):\n",
    "        self.age = age\n",
    "    def show_age(self):\n",
    "        return self.age\n",
    "    \n",
    "class grandchild(child):\n",
    "    def assign_gender(self,gender):\n",
    "        self.gender = gender\n",
    "        \n",
    "    def show_gender(self):\n",
    "        return self.gender"
   ]
  },
  {
   "cell_type": "code",
   "execution_count": 16,
   "id": "0a72c8b0",
   "metadata": {},
   "outputs": [],
   "source": [
    "gc = grandchild()\n",
    "gc.assign_name(\"Raiesh\")\n",
    "gc.assign_age(20)\n",
    "gc.assign_gender(\"Male\")"
   ]
  },
  {
   "cell_type": "code",
   "execution_count": 17,
   "id": "00171dfe",
   "metadata": {},
   "outputs": [
    {
     "data": {
      "text/plain": [
       "'Raiesh'"
      ]
     },
     "execution_count": 17,
     "metadata": {},
     "output_type": "execute_result"
    }
   ],
   "source": [
    "gc.show_name()"
   ]
  },
  {
   "cell_type": "code",
   "execution_count": 19,
   "id": "80b77f40",
   "metadata": {},
   "outputs": [
    {
     "data": {
      "text/plain": [
       "20"
      ]
     },
     "execution_count": 19,
     "metadata": {},
     "output_type": "execute_result"
    }
   ],
   "source": [
    "gc.show_age()"
   ]
  },
  {
   "cell_type": "code",
   "execution_count": 22,
   "id": "b4225250",
   "metadata": {},
   "outputs": [
    {
     "data": {
      "text/plain": [
       "'Male'"
      ]
     },
     "execution_count": 22,
     "metadata": {},
     "output_type": "execute_result"
    }
   ],
   "source": [
    "gc.show_gender()"
   ]
  },
  {
   "cell_type": "code",
   "execution_count": null,
   "id": "6b507089",
   "metadata": {},
   "outputs": [],
   "source": []
  },
  {
   "cell_type": "markdown",
   "id": "ec566943",
   "metadata": {},
   "source": [
    "# Analyzed by\n",
    "\n",
    "\n",
    "𝐌𝐝 𝐑𝐚𝐢𝐞𝐬𝐡,\n",
    "Enrollment number : 𝟏𝟗𝐔𝐌𝐄𝟏𝟏𝟔,\n",
    "Registration number : 𝟏𝟗𝟏𝟏𝟑𝟒𝟓,\n",
    "B Tech,7𝐭𝐡 semester,Section : 𝐀,\n",
    "Mechanical Engineering Department,\n",
    "National Institute of Technology Agartala, Tripura 799046,\n",
    "\n"
   ]
  }
 ],
 "metadata": {
  "kernelspec": {
   "display_name": "Python 3 (ipykernel)",
   "language": "python",
   "name": "python3"
  },
  "language_info": {
   "codemirror_mode": {
    "name": "ipython",
    "version": 3
   },
   "file_extension": ".py",
   "mimetype": "text/x-python",
   "name": "python",
   "nbconvert_exporter": "python",
   "pygments_lexer": "ipython3",
   "version": "3.9.12"
  }
 },
 "nbformat": 4,
 "nbformat_minor": 5
}
